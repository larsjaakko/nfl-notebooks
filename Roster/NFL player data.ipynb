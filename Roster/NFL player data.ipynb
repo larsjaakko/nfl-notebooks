{
 "cells": [
  {
   "cell_type": "markdown",
   "metadata": {},
   "source": [
    "# NFL Player Data Scraping"
   ]
  },
  {
   "cell_type": "code",
   "execution_count": 10,
   "metadata": {},
   "outputs": [],
   "source": [
    "import pandas as pd\n",
    "import numpy as np\n",
    "\n",
    "import seaborn as sns\n",
    "import matplotlib.pyplot as plt\n",
    "from matplotlib.ticker import FuncFormatter\n",
    "from adjustText import adjust_text\n",
    "\n",
    "import requests\n",
    "import csaps\n",
    "\n",
    "sns.set(style=\"whitegrid\", \n",
    "        palette=\"pastel\", \n",
    "        font='Circular Spotify Text', \n",
    "        font_scale = 1.1, \n",
    "        rc= {'grid.color': '.95', 'xtick.color': '.3', 'ytick.color': '.3'})\n"
   ]
  },
  {
   "cell_type": "code",
   "execution_count": 2,
   "metadata": {},
   "outputs": [],
   "source": [
    "%%capture\n",
    "from tqdm import tqdm_notebook as tqdm\n",
    "tqdm().pandas()"
   ]
  },
  {
   "cell_type": "markdown",
   "metadata": {},
   "source": [
    "## Data fetching functions"
   ]
  },
  {
   "cell_type": "code",
   "execution_count": 3,
   "metadata": {},
   "outputs": [],
   "source": [
    "def get_teams(start=1970, stop=2019):\n",
    "\n",
    "\n",
    "    years = list(range(start, stop+1))\n",
    "    team_dict = {}\n",
    "\n",
    "    for year in years:\n",
    "\n",
    "        try:\n",
    "            response = requests.get('http://www.nfl.com/feeds-rs/teams/{}.json'.format(year)).json()\n",
    "        except requests.exceptions.RequestException as e:\n",
    "            print(e)\n",
    "\n",
    "        teams = response['teams']\n",
    "        team_list = []\n",
    "\n",
    "        for team in teams:\n",
    "\n",
    "            team_list.append(team['teamId'])\n",
    "            \n",
    "        team_dict.update({'{}'.format(year): team_list})\n",
    "            \n",
    "\n",
    "    return team_dict\n",
    "    "
   ]
  },
  {
   "cell_type": "code",
   "execution_count": 4,
   "metadata": {},
   "outputs": [],
   "source": [
    "def get_players(team_dict):\n",
    "    \n",
    "    df = pd.DataFrame(columns=['season',\n",
    "                                   'nflId',\n",
    "                                   'status',\n",
    "                                   'displayName',\n",
    "                                   'firstName',\n",
    "                                   'lastName',\n",
    "                                   'esbId',\n",
    "                                   'gsisId',\n",
    "                                   'middleName',\n",
    "                                   'birthDate',\n",
    "                                   'homeTown',\n",
    "                                   'collegeId',\n",
    "                                   'collegeName',\n",
    "                                   'positionGroup',\n",
    "                                   'position',\n",
    "                                   'height',\n",
    "                                   'weight',\n",
    "                                   'teamAbbr',\n",
    "                                   'teamSeq',\n",
    "                                   'teamId',\n",
    "                                   'teamFullName'\n",
    "                                  ])\n",
    "    \n",
    "    length = 0\n",
    "    \n",
    "    for k, v in team_dict.items():\n",
    "        length += len(v)\n",
    "    \n",
    "    with tqdm(total=length, desc='Requests') as pbar:\n",
    "    \n",
    "        for season, teams in team_dict.items():        \n",
    "            for teamId in teams:\n",
    "\n",
    "                try:\n",
    "                    response = requests.get('http://www.nfl.com/feeds-rs/roster/{}/{}.json'.format(teamId, season)).json()\n",
    "                    pbar.update(1)\n",
    "                except requests.exceptions.RequestException as e:\n",
    "                    print(e)\n",
    "                    continue\n",
    "\n",
    "                players = response['teamPlayers']\n",
    "\n",
    "                for player in players:\n",
    "                    df = df.append(player, ignore_index=True)\n",
    "\n",
    "    return df\n",
    "    "
   ]
  },
  {
   "cell_type": "code",
   "execution_count": 13,
   "metadata": {},
   "outputs": [
    {
     "data": {
      "application/vnd.jupyter.widget-view+json": {
       "model_id": "e654c8ede2764272986c8404b0e914e6",
       "version_major": 2,
       "version_minor": 0
      },
      "text/plain": [
       "HBox(children=(IntProgress(value=0, description='Requests', max=340, style=ProgressStyle(description_width='in…"
      ]
     },
     "metadata": {},
     "output_type": "display_data"
    },
    {
     "name": "stdout",
     "output_type": "stream",
     "text": [
      "\n"
     ]
    }
   ],
   "source": [
    "start = 2010\n",
    "end = 2019\n",
    "\n",
    "teams = get_teams(start, end)\n",
    "\n",
    "players = get_players(teams)\n",
    "\n",
    "players.to_csv('nfl_players_{}-{}.csv'.format(start, end))"
   ]
  },
  {
   "cell_type": "code",
   "execution_count": null,
   "metadata": {},
   "outputs": [],
   "source": []
  }
 ],
 "metadata": {
  "kernelspec": {
   "display_name": "Python 3",
   "language": "python",
   "name": "python3"
  },
  "language_info": {
   "codemirror_mode": {
    "name": "ipython",
    "version": 3
   },
   "file_extension": ".py",
   "mimetype": "text/x-python",
   "name": "python",
   "nbconvert_exporter": "python",
   "pygments_lexer": "ipython3",
   "version": "3.7.1"
  }
 },
 "nbformat": 4,
 "nbformat_minor": 2
}
